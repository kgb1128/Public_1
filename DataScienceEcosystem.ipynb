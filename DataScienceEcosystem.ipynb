{
 "cells": [
  {
   "cell_type": "markdown",
   "id": "62762781",
   "metadata": {},
   "source": [
    "# Data Science Tools and Ecosystem"
   ]
  },
  {
   "cell_type": "markdown",
   "id": "2767d4eb",
   "metadata": {},
   "source": [
    "## Author\n",
    "Kevin B."
   ]
  },
  {
   "cell_type": "markdown",
   "id": "a06a9755",
   "metadata": {},
   "source": [
    "In this notebook, Data Science Tools and Ecosystem are summarized."
   ]
  },
  {
   "cell_type": "markdown",
   "id": "a2e0d3b5",
   "metadata": {},
   "source": [
    "__Objectives:__\n",
    "    \n",
    "    * List popular languages Data Scientists use\n",
    "    * List popular libraries Data Scientists use\n",
    "    * Compute arithemtic operations"
   ]
  },
  {
   "cell_type": "markdown",
   "id": "8670d66a",
   "metadata": {},
   "source": [
    "Some of the popular languages that Data Scientists use are:\n",
    "\n",
    "    1. RStudio\n",
    "    2. Python\n",
    "    3. SQL\n",
    "    4. Java Script"
   ]
  },
  {
   "cell_type": "markdown",
   "id": "69e3309a",
   "metadata": {},
   "source": [
    "Some of the commonly use libraries used by Data Scientists include:\n",
    "    \n",
    "    1. TensorFlow\n",
    "    2. Pandas\n",
    "    3. PyTorch"
   ]
  },
  {
   "cell_type": "markdown",
   "id": "a4c367ea",
   "metadata": {},
   "source": [
    "|Data Science Tools|\n",
    "| -----|\n",
    "| Scikit-learn |\n",
    "| Matplotlib |\n",
    "| NumPy |"
   ]
  },
  {
   "cell_type": "markdown",
   "id": "ccaf2c1c",
   "metadata": {},
   "source": [
    "### Below are a few examples of evaluating arithmetic expressions in Python."
   ]
  },
  {
   "cell_type": "code",
   "execution_count": 7,
   "id": "7bec87aa",
   "metadata": {},
   "outputs": [
    {
     "data": {
      "text/plain": [
       "17"
      ]
     },
     "execution_count": 7,
     "metadata": {},
     "output_type": "execute_result"
    }
   ],
   "source": [
    "#This is a simple arithmetic expression to multiply then add integers.\n",
    "(3*4)+5"
   ]
  },
  {
   "cell_type": "code",
   "execution_count": 8,
   "id": "de8b481d",
   "metadata": {},
   "outputs": [
    {
     "data": {
      "text/plain": [
       "33.333333333333336"
      ]
     },
     "execution_count": 8,
     "metadata": {},
     "output_type": "execute_result"
    }
   ],
   "source": [
    "#This will convert 200 minutes to hours by dividing by 60\n",
    "200/6"
   ]
  },
  {
   "cell_type": "code",
   "execution_count": null,
   "id": "839286e5",
   "metadata": {},
   "outputs": [],
   "source": []
  }
 ],
 "metadata": {
  "kernelspec": {
   "display_name": "Python 3 (ipykernel)",
   "language": "python",
   "name": "python3"
  },
  "language_info": {
   "codemirror_mode": {
    "name": "ipython",
    "version": 3
   },
   "file_extension": ".py",
   "mimetype": "text/x-python",
   "name": "python",
   "nbconvert_exporter": "python",
   "pygments_lexer": "ipython3",
   "version": "3.11.5"
  }
 },
 "nbformat": 4,
 "nbformat_minor": 5
}
